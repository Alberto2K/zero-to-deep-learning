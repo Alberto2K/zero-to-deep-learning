{
 "cells": [
  {
   "cell_type": "code",
   "execution_count": 2,
   "metadata": {},
   "outputs": [
    {
     "data": {
      "text/html": [
       "<div>\n",
       "<table border=\"1\" class=\"dataframe\">\n",
       "  <thead>\n",
       "    <tr style=\"text-align: right;\">\n",
       "      <th></th>\n",
       "      <th>Gender</th>\n",
       "      <th>Height</th>\n",
       "      <th>Weight</th>\n",
       "    </tr>\n",
       "  </thead>\n",
       "  <tbody>\n",
       "    <tr>\n",
       "      <th>0</th>\n",
       "      <td>Male</td>\n",
       "      <td>73.847017</td>\n",
       "      <td>241.893563</td>\n",
       "    </tr>\n",
       "    <tr>\n",
       "      <th>1</th>\n",
       "      <td>Male</td>\n",
       "      <td>68.781904</td>\n",
       "      <td>162.310473</td>\n",
       "    </tr>\n",
       "    <tr>\n",
       "      <th>2</th>\n",
       "      <td>Male</td>\n",
       "      <td>74.110105</td>\n",
       "      <td>212.740856</td>\n",
       "    </tr>\n",
       "    <tr>\n",
       "      <th>3</th>\n",
       "      <td>Male</td>\n",
       "      <td>71.730978</td>\n",
       "      <td>220.042470</td>\n",
       "    </tr>\n",
       "    <tr>\n",
       "      <th>4</th>\n",
       "      <td>Male</td>\n",
       "      <td>69.881796</td>\n",
       "      <td>206.349801</td>\n",
       "    </tr>\n",
       "  </tbody>\n",
       "</table>\n",
       "</div>"
      ],
      "text/plain": [
       "  Gender     Height      Weight\n",
       "0   Male  73.847017  241.893563\n",
       "1   Male  68.781904  162.310473\n",
       "2   Male  74.110105  212.740856\n",
       "3   Male  71.730978  220.042470\n",
       "4   Male  69.881796  206.349801"
      ]
     },
     "execution_count": 2,
     "metadata": {},
     "output_type": "execute_result"
    }
   ],
   "source": [
    "%matplotlib inline\n",
    "import matplotlib.pyplot as plt\n",
    "import pandas as pd\n",
    "import numpy as np\n",
    "df = pd.read_csv('./data/weight-height.csv')\n",
    "df.head()"
   ]
  },
  {
   "cell_type": "code",
   "execution_count": 3,
   "metadata": {},
   "outputs": [],
   "source": [
    "def plot_humans():\n",
    "      df.plot(kind='scatter',\n",
    "              x='Height',\n",
    "              y='Weight',\n",
    "              title='Weight and Height in adults')"
   ]
  },
  {
   "cell_type": "code",
   "execution_count": 6,
   "metadata": {},
   "outputs": [
    {
     "data": {
      "text/plain": [
       "[<matplotlib.lines.Line2D at 0x7f3931ca7978>]"
      ]
     },
     "execution_count": 6,
     "metadata": {},
     "output_type": "execute_result"
    },
    {
     "data": {
      "image/png": "[encoded data removed]",
      "text/plain": [
       "<matplotlib.figure.Figure at 0x7f3931ca7470>"
      ]
     },
     "metadata": {},
     "output_type": "display_data"
    }
   ],
   "source": [
    "plot_humans()\n",
    "plt.plot([55, 78], [75, 250], color='red', linewidth=3)"
   ]
  },
  {
   "cell_type": "code",
   "execution_count": 7,
   "metadata": {},
   "outputs": [],
   "source": [
    "def line(x, w=0, b=0):\n",
    "      return x * w + b"
   ]
  },
  {
   "cell_type": "code",
   "execution_count": 8,
   "metadata": {},
   "outputs": [],
   "source": [
    "x = np.linspace(55, 80, 100)"
   ]
  },
  {
   "cell_type": "code",
   "execution_count": 9,
   "metadata": {},
   "outputs": [
    {
     "data": {
      "text/plain": [
       "array([ 55.        ,  55.25252525,  55.50505051,  55.75757576,\n",
       "        56.01010101,  56.26262626,  56.51515152,  56.76767677,\n",
       "        57.02020202,  57.27272727,  57.52525253,  57.77777778,\n",
       "        58.03030303,  58.28282828,  58.53535354,  58.78787879,\n",
       "        59.04040404,  59.29292929,  59.54545455,  59.7979798 ,\n",
       "        60.05050505,  60.3030303 ,  60.55555556,  60.80808081,\n",
       "        61.06060606,  61.31313131,  61.56565657,  61.81818182,\n",
       "        62.07070707,  62.32323232,  62.57575758,  62.82828283,\n",
       "        63.08080808,  63.33333333,  63.58585859,  63.83838384,\n",
       "        64.09090909,  64.34343434,  64.5959596 ,  64.84848485,\n",
       "        65.1010101 ,  65.35353535,  65.60606061,  65.85858586,\n",
       "        66.11111111,  66.36363636,  66.61616162,  66.86868687,\n",
       "        67.12121212,  67.37373737,  67.62626263,  67.87878788,\n",
       "        68.13131313,  68.38383838,  68.63636364,  68.88888889,\n",
       "        69.14141414,  69.39393939,  69.64646465,  69.8989899 ,\n",
       "        70.15151515,  70.4040404 ,  70.65656566,  70.90909091,\n",
       "        71.16161616,  71.41414141,  71.66666667,  71.91919192,\n",
       "        72.17171717,  72.42424242,  72.67676768,  72.92929293,\n",
       "        73.18181818,  73.43434343,  73.68686869,  73.93939394,\n",
       "        74.19191919,  74.44444444,  74.6969697 ,  74.94949495,\n",
       "        75.2020202 ,  75.45454545,  75.70707071,  75.95959596,\n",
       "        76.21212121,  76.46464646,  76.71717172,  76.96969697,\n",
       "        77.22222222,  77.47474747,  77.72727273,  77.97979798,\n",
       "        78.23232323,  78.48484848,  78.73737374,  78.98989899,\n",
       "        79.24242424,  79.49494949,  79.74747475,  80.        ])"
      ]
     },
     "execution_count": 9,
     "metadata": {},
     "output_type": "execute_result"
    }
   ],
   "source": [
    "x"
   ]
  },
  {
   "cell_type": "code",
   "execution_count": 10,
   "metadata": {},
   "outputs": [],
   "source": [
    "yhat = line(x, w=0, b=0)"
   ]
  },
  {
   "cell_type": "code",
   "execution_count": 11,
   "metadata": {},
   "outputs": [
    {
     "data": {
      "text/plain": [
       "array([ 0.,  0.,  0.,  0.,  0.,  0.,  0.,  0.,  0.,  0.,  0.,  0.,  0.,\n",
       "        0.,  0.,  0.,  0.,  0.,  0.,  0.,  0.,  0.,  0.,  0.,  0.,  0.,\n",
       "        0.,  0.,  0.,  0.,  0.,  0.,  0.,  0.,  0.,  0.,  0.,  0.,  0.,\n",
       "        0.,  0.,  0.,  0.,  0.,  0.,  0.,  0.,  0.,  0.,  0.,  0.,  0.,\n",
       "        0.,  0.,  0.,  0.,  0.,  0.,  0.,  0.,  0.,  0.,  0.,  0.,  0.,\n",
       "        0.,  0.,  0.,  0.,  0.,  0.,  0.,  0.,  0.,  0.,  0.,  0.,  0.,\n",
       "        0.,  0.,  0.,  0.,  0.,  0.,  0.,  0.,  0.,  0.,  0.,  0.,  0.,\n",
       "        0.,  0.,  0.,  0.,  0.,  0.,  0.,  0.,  0.])"
      ]
     },
     "execution_count": 11,
     "metadata": {},
     "output_type": "execute_result"
    }
   ],
   "source": [
    "yhat"
   ]
  },
  {
   "cell_type": "code",
   "execution_count": 12,
   "metadata": {},
   "outputs": [
    {
     "data": {
      "text/plain": [
       "[<matplotlib.lines.Line2D at 0x7f3931beb630>]"
      ]
     },
     "execution_count": 12,
     "metadata": {},
     "output_type": "execute_result"
    },
    {
     "data": {
      "image/png": "[encoded data removed]",
      "text/plain": [
       "<matplotlib.figure.Figure at 0x7f3931beb240>"
      ]
     },
     "metadata": {},
     "output_type": "display_data"
    }
   ],
   "source": [
    "plot_humans()\n",
    "plt.plot(x, yhat, color='red', linewidth=3)"
   ]
  },
  {
   "cell_type": "code",
   "execution_count": 13,
   "metadata": {},
   "outputs": [
    {
     "data": {
      "text/plain": [
       "[<matplotlib.lines.Line2D at 0x7f3931c8f198>]"
      ]
     },
     "execution_count": 13,
     "metadata": {},
     "output_type": "execute_result"
    },
    {
     "data": {
      "image/png": "[encoded data removed]",
      "text/plain": [
       "<matplotlib.figure.Figure at 0x7f3931d7d4e0>"
      ]
     },
     "metadata": {},
     "output_type": "display_data"
    }
   ],
   "source": [
    "plot_humans()\n",
    "  # three settings for b \"offset\" the\n",
    "plt.plot(x, line(x, b=50), color='orange', linewidth=3)\n",
    "plt.plot(x, line(x, b=150), color='red', linewidth=3)\n",
    "plt.plot(x, line(x, b=250), color='purple', linewidth=3)"
   ]
  },
  {
   "cell_type": "code",
   "execution_count": 14,
   "metadata": {},
   "outputs": [
    {
     "data": {
      "text/plain": [
       "[<matplotlib.lines.Line2D at 0x7f3931aa32e8>]"
      ]
     },
     "execution_count": 14,
     "metadata": {},
     "output_type": "execute_result"
    },
    {
     "data": {
      "image/png": "[encoded data removed]",
      "text/plain": [
       "<matplotlib.figure.Figure at 0x7f3931ce64a8>"
      ]
     },
     "metadata": {},
     "output_type": "display_data"
    }
   ],
   "source": [
    "plot_humans()\n",
    "plt.plot(x, line(x, w=5), color='purple', linewidth=3)\n",
    "plt.plot(x, line(x, w=3), color='red', linewidth=3)\n",
    "plt.plot(x, line(x, w=-1), color='orange', linewidth=3)\n"
   ]
  },
  {
   "cell_type": "code",
   "execution_count": 15,
   "metadata": {},
   "outputs": [],
   "source": [
    "def mean_squared_error(y_true, y_pred):\n",
    "      s = (y_true - y_pred)**2\n",
    "      return s.mean()"
   ]
  },
  {
   "cell_type": "code",
   "execution_count": 16,
   "metadata": {},
   "outputs": [
    {
     "data": {
      "text/plain": [
       "array([[ 73.84701702],\n",
       "       [ 68.78190405],\n",
       "       [ 74.11010539],\n",
       "       ..., \n",
       "       [ 63.86799221],\n",
       "       [ 69.03424313],\n",
       "       [ 61.94424588]])"
      ]
     },
     "execution_count": 16,
     "metadata": {},
     "output_type": "execute_result"
    }
   ],
   "source": [
    "X = df[['Height']].values\n",
    "X"
   ]
  },
  {
   "cell_type": "code",
   "execution_count": 17,
   "metadata": {},
   "outputs": [
    {
     "data": {
      "text/plain": [
       "(10000, 1)"
      ]
     },
     "execution_count": 17,
     "metadata": {},
     "output_type": "execute_result"
    }
   ],
   "source": [
    "X.shape"
   ]
  },
  {
   "cell_type": "code",
   "execution_count": 18,
   "metadata": {},
   "outputs": [
    {
     "data": {
      "text/plain": [
       "array([ 241.89356318,  162.31047252,  212.74085556, ...,  128.47531878,\n",
       "        163.85246135,  113.64910268])"
      ]
     },
     "execution_count": 18,
     "metadata": {},
     "output_type": "execute_result"
    }
   ],
   "source": [
    "y_true = df['Weight'].values\n",
    "y_true"
   ]
  },
  {
   "cell_type": "code",
   "execution_count": 19,
   "metadata": {},
   "outputs": [
    {
     "data": {
      "text/plain": [
       "array([[ 0.],\n",
       "       [ 0.],\n",
       "       [ 0.],\n",
       "       ..., \n",
       "       [ 0.],\n",
       "       [ 0.],\n",
       "       [ 0.]])"
      ]
     },
     "execution_count": 19,
     "metadata": {},
     "output_type": "execute_result"
    }
   ],
   "source": [
    "y_pred = line(X)\n",
    "y_pred"
   ]
  },
  {
   "cell_type": "code",
   "execution_count": 20,
   "metadata": {},
   "outputs": [
    {
     "data": {
      "text/plain": [
       "27093.83757456157"
      ]
     },
     "execution_count": 20,
     "metadata": {},
     "output_type": "execute_result"
    }
   ],
   "source": [
    "mean_squared_error(y_true, y_pred.ravel())"
   ]
  },
  {
   "cell_type": "code",
   "execution_count": 21,
   "metadata": {},
   "outputs": [
    {
     "data": {
      "text/plain": [
       "(10000, 1)"
      ]
     },
     "execution_count": 21,
     "metadata": {},
     "output_type": "execute_result"
    }
   ],
   "source": [
    "y_pred.shape"
   ]
  },
  {
   "cell_type": "code",
   "execution_count": 22,
   "metadata": {},
   "outputs": [
    {
     "data": {
      "text/plain": [
       "(10000,)"
      ]
     },
     "execution_count": 22,
     "metadata": {},
     "output_type": "execute_result"
    }
   ],
   "source": [
    "y_pred.ravel().shape"
   ]
  },
  {
   "cell_type": "code",
   "execution_count": 23,
   "metadata": {},
   "outputs": [
    {
     "data": {
      "text/plain": [
       "(10000,)"
      ]
     },
     "execution_count": 23,
     "metadata": {},
     "output_type": "execute_result"
    }
   ],
   "source": [
    "y_true.shape"
   ]
  },
  {
   "cell_type": "code",
   "execution_count": 24,
   "metadata": {},
   "outputs": [
    {
     "data": {
      "text/plain": [
       "1457.1224504786412"
      ]
     },
     "execution_count": 24,
     "metadata": {},
     "output_type": "execute_result"
    }
   ],
   "source": [
    "y_pred = line(X, w=2)\n",
    "mean_squared_error(y_true, y_pred.ravel())"
   ]
  },
  {
   "cell_type": "code",
   "execution_count": 25,
   "metadata": {},
   "outputs": [
    {
     "data": {
      "text/plain": [
       "708.91295755110946"
      ]
     },
     "execution_count": 25,
     "metadata": {},
     "output_type": "execute_result"
    }
   ],
   "source": [
    "y_pred = line(X, w=2, b=20)\n",
    "mean_squared_error(y_true, y_pred.ravel())"
   ]
  },
  {
   "cell_type": "code",
   "execution_count": 27,
   "metadata": {},
   "outputs": [
    {
     "data": {
      "text/plain": [
       "<matplotlib.text.Text at 0x7f3931a73400>"
      ]
     },
     "execution_count": 27,
     "metadata": {},
     "output_type": "execute_result"
    },
    {
     "data": {
      "image/png": "[encoded data removed]",
      "text/plain": [
       "<matplotlib.figure.Figure at 0x7f3931d289b0>"
      ]
     },
     "metadata": {},
     "output_type": "display_data"
    }
   ],
   "source": [
    "plt.figure(figsize=(10, 5))\n",
    "# we are going to draw 2 plots in the same figure # first plot, data and a few lines\n",
    "ax1 = plt.subplot(121)\n",
    "df.plot(kind='scatter',\n",
    "    x='Height',\n",
    "    y='Weight',\n",
    "    title='Weight and Height in adults', ax=ax1)\n",
    "\n",
    "# let's explore the cost function for a few values of b between -100 and +150\n",
    "bbs = np.array([-100, -50, 0, 50, 100, 150])\n",
    "mses = [] # we will append the values of the cost here, for each line for b in bbs:\n",
    "for b in bbs:\n",
    "    y_pred = line(X, w=2, b=b)\n",
    "    mse = mean_squared_error(y_true, y_pred)\n",
    "    mses.append(mse)\n",
    "    plt.plot(X, y_pred)\n",
    "\n",
    "# second plot: Cost function\n",
    "ax2 = plt.subplot(122)\n",
    "plt.plot(bbs, mses, 'o-')\n",
    "plt.title('Cost as a function of b')\n",
    "plt.xlabel('b')"
   ]
  },
  {
   "cell_type": "code",
   "execution_count": 28,
   "metadata": {},
   "outputs": [
    {
     "name": "stderr",
     "output_type": "stream",
     "text": [
      "Using TensorFlow backend.\n"
     ]
    }
   ],
   "source": [
    "from keras.models import Sequential\n",
    "from keras.layers import Dense\n",
    "from keras.optimizers import Adam, SGD"
   ]
  },
  {
   "cell_type": "code",
   "execution_count": 29,
   "metadata": {},
   "outputs": [],
   "source": [
    "model = Sequential()"
   ]
  },
  {
   "cell_type": "code",
   "execution_count": 30,
   "metadata": {},
   "outputs": [],
   "source": [
    "model.add(Dense(1, input_shape=(1,)))"
   ]
  },
  {
   "cell_type": "code",
   "execution_count": 31,
   "metadata": {},
   "outputs": [
    {
     "name": "stdout",
     "output_type": "stream",
     "text": [
      "_________________________________________________________________\n",
      "Layer (type)                 Output Shape              Param #   \n",
      "=================================================================\n",
      "dense_1 (Dense)              (None, 1)                 2         \n",
      "=================================================================\n",
      "Total params: 2\n",
      "Trainable params: 2\n",
      "Non-trainable params: 0\n",
      "_________________________________________________________________\n"
     ]
    }
   ],
   "source": [
    "model.summary()"
   ]
  },
  {
   "cell_type": "code",
   "execution_count": 32,
   "metadata": {},
   "outputs": [],
   "source": [
    "model.compile(Adam(lr=0.8), 'mean_squared_error')"
   ]
  },
  {
   "cell_type": "code",
   "execution_count": 33,
   "metadata": {},
   "outputs": [
    {
     "name": "stdout",
     "output_type": "stream",
     "text": [
      "Epoch 1/40\n",
      "10000/10000 [==============================] - 1s 81us/step - loss: 826.8691\n",
      "Epoch 2/40\n",
      "10000/10000 [==============================] - 0s 24us/step - loss: 556.1071\n",
      "Epoch 3/40\n",
      "10000/10000 [==============================] - 0s 25us/step - loss: 502.2564\n",
      "Epoch 4/40\n",
      "10000/10000 [==============================] - 0s 25us/step - loss: 488.2056\n",
      "Epoch 5/40\n",
      "10000/10000 [==============================] - 0s 24us/step - loss: 423.6836\n",
      "Epoch 6/40\n",
      "10000/10000 [==============================] - 0s 24us/step - loss: 375.4047\n",
      "Epoch 7/40\n",
      "10000/10000 [==============================] - 0s 26us/step - loss: 343.8245\n",
      "Epoch 8/40\n",
      "10000/10000 [==============================] - 0s 27us/step - loss: 319.3754\n",
      "Epoch 9/40\n",
      "10000/10000 [==============================] - 0s 27us/step - loss: 280.4317\n",
      "Epoch 10/40\n",
      "10000/10000 [==============================] - 0s 24us/step - loss: 262.7376\n",
      "Epoch 11/40\n",
      "10000/10000 [==============================] - 0s 25us/step - loss: 245.2717\n",
      "Epoch 12/40\n",
      "10000/10000 [==============================] - 0s 25us/step - loss: 228.3085\n",
      "Epoch 13/40\n",
      "10000/10000 [==============================] - 0s 24us/step - loss: 211.2070\n",
      "Epoch 14/40\n",
      "10000/10000 [==============================] - 0s 24us/step - loss: 211.1958\n",
      "Epoch 15/40\n",
      "10000/10000 [==============================] - 0s 24us/step - loss: 188.4598\n",
      "Epoch 16/40\n",
      "10000/10000 [==============================] - 0s 24us/step - loss: 187.3522\n",
      "Epoch 17/40\n",
      "10000/10000 [==============================] - 0s 25us/step - loss: 184.3427\n",
      "Epoch 18/40\n",
      "10000/10000 [==============================] - 0s 27us/step - loss: 189.0911\n",
      "Epoch 19/40\n",
      "10000/10000 [==============================] - 0s 25us/step - loss: 192.2541\n",
      "Epoch 20/40\n",
      "10000/10000 [==============================] - 0s 24us/step - loss: 187.7482\n",
      "Epoch 21/40\n",
      "10000/10000 [==============================] - 0s 25us/step - loss: 188.0434\n",
      "Epoch 22/40\n",
      "10000/10000 [==============================] - 0s 25us/step - loss: 191.0325\n",
      "Epoch 23/40\n",
      "10000/10000 [==============================] - 0s 24us/step - loss: 182.6204\n",
      "Epoch 24/40\n",
      "10000/10000 [==============================] - 0s 24us/step - loss: 176.3174\n",
      "Epoch 25/40\n",
      "10000/10000 [==============================] - 0s 24us/step - loss: 173.9096\n",
      "Epoch 26/40\n",
      "10000/10000 [==============================] - 0s 24us/step - loss: 177.6117\n",
      "Epoch 27/40\n",
      "10000/10000 [==============================] - 0s 25us/step - loss: 180.3698\n",
      "Epoch 28/40\n",
      "10000/10000 [==============================] - 0s 27us/step - loss: 179.8320\n",
      "Epoch 29/40\n",
      "10000/10000 [==============================] - 0s 25us/step - loss: 184.3900\n",
      "Epoch 30/40\n",
      "10000/10000 [==============================] - 0s 25us/step - loss: 183.8594\n",
      "Epoch 31/40\n",
      "10000/10000 [==============================] - 0s 24us/step - loss: 179.4608\n",
      "Epoch 32/40\n",
      "10000/10000 [==============================] - 0s 25us/step - loss: 165.5754\n",
      "Epoch 33/40\n",
      "10000/10000 [==============================] - 0s 24us/step - loss: 189.8213\n",
      "Epoch 34/40\n",
      "10000/10000 [==============================] - 0s 24us/step - loss: 173.8344\n",
      "Epoch 35/40\n",
      "10000/10000 [==============================] - 0s 24us/step - loss: 188.7356\n",
      "Epoch 36/40\n",
      "10000/10000 [==============================] - 0s 24us/step - loss: 179.2428\n",
      "Epoch 37/40\n",
      "10000/10000 [==============================] - 0s 25us/step - loss: 174.2808\n",
      "Epoch 38/40\n",
      "10000/10000 [==============================] - 0s 27us/step - loss: 175.1408\n",
      "Epoch 39/40\n",
      "10000/10000 [==============================] - 0s 26us/step - loss: 172.7724\n",
      "Epoch 40/40\n",
      "10000/10000 [==============================] - 0s 24us/step - loss: 173.0499\n"
     ]
    },
    {
     "data": {
      "text/plain": [
       "<keras.callbacks.History at 0x7f392618a128>"
      ]
     },
     "execution_count": 33,
     "metadata": {},
     "output_type": "execute_result"
    }
   ],
   "source": [
    "model.fit(X, y_true, epochs=40)"
   ]
  },
  {
   "cell_type": "code",
   "execution_count": 34,
   "metadata": {},
   "outputs": [],
   "source": [
    "y_pred = model.predict(X)"
   ]
  },
  {
   "cell_type": "code",
   "execution_count": 35,
   "metadata": {},
   "outputs": [
    {
     "data": {
      "text/plain": [
       "[<matplotlib.lines.Line2D at 0x7f39254b7588>]"
      ]
     },
     "execution_count": 35,
     "metadata": {},
     "output_type": "execute_result"
    },
    {
     "data": {
      "image/png": "[encoded data removed]",
      "text/plain": [
       "<matplotlib.figure.Figure at 0x7f3925dff710>"
      ]
     },
     "metadata": {},
     "output_type": "display_data"
    }
   ],
   "source": [
    "df.plot(kind='scatter',\n",
    "        x='Height',\n",
    "        y='Weight',\n",
    "        title='Weight and Height in adults')\n",
    "plt.plot(X, y_pred, color='red')"
   ]
  },
  {
   "cell_type": "code",
   "execution_count": 36,
   "metadata": {},
   "outputs": [],
   "source": [
    "W, B = model.get_weights()"
   ]
  },
  {
   "cell_type": "code",
   "execution_count": 37,
   "metadata": {},
   "outputs": [
    {
     "data": {
      "text/plain": [
       "array([[ 7.65698433]], dtype=float32)"
      ]
     },
     "execution_count": 37,
     "metadata": {},
     "output_type": "execute_result"
    }
   ],
   "source": [
    "W"
   ]
  },
  {
   "cell_type": "code",
   "execution_count": 38,
   "metadata": {},
   "outputs": [
    {
     "data": {
      "text/plain": [
       "array([-348.57247925], dtype=float32)"
      ]
     },
     "execution_count": 38,
     "metadata": {},
     "output_type": "execute_result"
    }
   ],
   "source": [
    "B"
   ]
  },
  {
   "cell_type": "code",
   "execution_count": 39,
   "metadata": {},
   "outputs": [],
   "source": [
    "w = W[0, 0]"
   ]
  },
  {
   "cell_type": "code",
   "execution_count": 40,
   "metadata": {},
   "outputs": [],
   "source": [
    "b = B[0]"
   ]
  },
  {
   "cell_type": "code",
   "execution_count": 41,
   "metadata": {},
   "outputs": [
    {
     "data": {
      "text/plain": [
       "45.523468"
      ]
     },
     "execution_count": 41,
     "metadata": {},
     "output_type": "execute_result"
    }
   ],
   "source": [
    "-b/w"
   ]
  },
  {
   "cell_type": "code",
   "execution_count": 42,
   "metadata": {},
   "outputs": [],
   "source": [
    "from sklearn.metrics import r2_score"
   ]
  },
  {
   "cell_type": "code",
   "execution_count": 43,
   "metadata": {},
   "outputs": [
    {
     "name": "stdout",
     "output_type": "stream",
     "text": [
      "The R2 score is 0.852\n"
     ]
    }
   ],
   "source": [
    "print(\"The R2 score is {:0.3f}\".format(r2_score(y_true, y_pred)))"
   ]
  },
  {
   "cell_type": "code",
   "execution_count": 44,
   "metadata": {},
   "outputs": [],
   "source": [
    "from sklearn.model_selection import train_test_split"
   ]
  },
  {
   "cell_type": "code",
   "execution_count": 45,
   "metadata": {},
   "outputs": [],
   "source": [
    "X_train, X_test, y_train, y_test = train_test_split(X, y_true, test_size=0.2)"
   ]
  },
  {
   "cell_type": "code",
   "execution_count": 46,
   "metadata": {},
   "outputs": [
    {
     "data": {
      "text/plain": [
       "8000"
      ]
     },
     "execution_count": 46,
     "metadata": {},
     "output_type": "execute_result"
    }
   ],
   "source": [
    "len(X_train)"
   ]
  },
  {
   "cell_type": "code",
   "execution_count": 47,
   "metadata": {},
   "outputs": [
    {
     "data": {
      "text/plain": [
       "2000"
      ]
     },
     "execution_count": 47,
     "metadata": {},
     "output_type": "execute_result"
    }
   ],
   "source": [
    "len(X_test)"
   ]
  },
  {
   "cell_type": "code",
   "execution_count": 48,
   "metadata": {},
   "outputs": [
    {
     "data": {
      "text/plain": [
       "<keras.callbacks.History at 0x7f390b35f4e0>"
      ]
     },
     "execution_count": 48,
     "metadata": {},
     "output_type": "execute_result"
    }
   ],
   "source": [
    "model.fit(X_train, y_train, epochs=50, verbose=0)"
   ]
  },
  {
   "cell_type": "code",
   "execution_count": 49,
   "metadata": {},
   "outputs": [],
   "source": [
    "y_train_pred = model.predict(X_train).ravel()\n",
    "y_test_pred = model.predict(X_test).ravel()"
   ]
  },
  {
   "cell_type": "code",
   "execution_count": 50,
   "metadata": {},
   "outputs": [],
   "source": [
    "from sklearn.metrics import mean_squared_error as mse"
   ]
  },
  {
   "cell_type": "code",
   "execution_count": 52,
   "metadata": {},
   "outputs": [
    {
     "name": "stdout",
     "output_type": "stream",
     "text": [
      "The Mean Squared Error on the Train set is:\t155.2\n",
      "The Mean Squared Error on the Test set is:\t157.7\n"
     ]
    }
   ],
   "source": [
    "print(\"The Mean Squared Error on the Train set is:\\t{:0.1f}\".format(mse(y_train,\n",
    "  y_train_pred)))\n",
    "print(\"The Mean Squared Error on the Test set is:\\t{:0.1f}\".format(mse(y_test,\n",
    "  y_test_pred)))"
   ]
  },
  {
   "cell_type": "code",
   "execution_count": 53,
   "metadata": {},
   "outputs": [
    {
     "name": "stdout",
     "output_type": "stream",
     "text": [
      "The R2 score on the Train set is:\t0.850\n",
      "The R2 score on the Test set is:\t0.846\n"
     ]
    }
   ],
   "source": [
    "print(\"The R2 score on the Train set is:\\t{:0.3f}\".format(r2_score(y_train,\n",
    "  y_train_pred)))\n",
    "print(\"The R2 score on the Test set is:\\t{:0.3f}\".format(r2_score(y_test,\n",
    "  y_test_pred)))"
   ]
  },
  {
   "cell_type": "code",
   "execution_count": 55,
   "metadata": {},
   "outputs": [
    {
     "data": {
      "text/html": [
       "<div>\n",
       "<table border=\"1\" class=\"dataframe\">\n",
       "  <thead>\n",
       "    <tr style=\"text-align: right;\">\n",
       "      <th></th>\n",
       "      <th>Time (min)</th>\n",
       "      <th>Buy</th>\n",
       "    </tr>\n",
       "  </thead>\n",
       "  <tbody>\n",
       "    <tr>\n",
       "      <th>0</th>\n",
       "      <td>2.000000</td>\n",
       "      <td>0</td>\n",
       "    </tr>\n",
       "    <tr>\n",
       "      <th>1</th>\n",
       "      <td>0.683333</td>\n",
       "      <td>0</td>\n",
       "    </tr>\n",
       "    <tr>\n",
       "      <th>2</th>\n",
       "      <td>3.216667</td>\n",
       "      <td>1</td>\n",
       "    </tr>\n",
       "    <tr>\n",
       "      <th>3</th>\n",
       "      <td>0.900000</td>\n",
       "      <td>0</td>\n",
       "    </tr>\n",
       "    <tr>\n",
       "      <th>4</th>\n",
       "      <td>1.533333</td>\n",
       "      <td>1</td>\n",
       "    </tr>\n",
       "  </tbody>\n",
       "</table>\n",
       "</div>"
      ],
      "text/plain": [
       "   Time (min)  Buy\n",
       "0    2.000000    0\n",
       "1    0.683333    0\n",
       "2    3.216667    1\n",
       "3    0.900000    0\n",
       "4    1.533333    1"
      ]
     },
     "execution_count": 55,
     "metadata": {},
     "output_type": "execute_result"
    }
   ],
   "source": [
    "df = pd.read_csv('./data/user_visit_duration.csv')\n",
    "df.head()"
   ]
  },
  {
   "cell_type": "code",
   "execution_count": 56,
   "metadata": {},
   "outputs": [
    {
     "data": {
      "text/plain": [
       "<matplotlib.axes._subplots.AxesSubplot at 0x7f390b2ebdd8>"
      ]
     },
     "execution_count": 56,
     "metadata": {},
     "output_type": "execute_result"
    },
    {
     "data": {
      "image/png": "[encoded data removed]",
      "text/plain": [
       "<matplotlib.figure.Figure at 0x7f390b2eb668>"
      ]
     },
     "metadata": {},
     "output_type": "display_data"
    }
   ],
   "source": [
    "df.plot(kind='scatter', x='Time (min)', y='Buy')"
   ]
  },
  {
   "cell_type": "code",
   "execution_count": 57,
   "metadata": {},
   "outputs": [],
   "source": [
    "X = df[['Time (min)']].values\n",
    "y = df['Buy'].values"
   ]
  },
  {
   "cell_type": "code",
   "execution_count": 58,
   "metadata": {},
   "outputs": [
    {
     "data": {
      "text/plain": [
       "<keras.callbacks.History at 0x7f390b289780>"
      ]
     },
     "execution_count": 58,
     "metadata": {},
     "output_type": "execute_result"
    }
   ],
   "source": [
    "model.fit(X, y, epochs=100, verbose=0)"
   ]
  },
  {
   "cell_type": "code",
   "execution_count": 59,
   "metadata": {},
   "outputs": [
    {
     "data": {
      "text/plain": [
       "<matplotlib.text.Text at 0x7f390b23efd0>"
      ]
     },
     "execution_count": 59,
     "metadata": {},
     "output_type": "execute_result"
    },
    {
     "data": {
      "image/png": "[encoded data removed]",
      "text/plain": [
       "<matplotlib.figure.Figure at 0x7f390b3049b0>"
      ]
     },
     "metadata": {},
     "output_type": "display_data"
    }
   ],
   "source": [
    "y_pred = model.predict(X)\n",
    "\n",
    "plt.figure(figsize=(15, 5))\n",
    "ax = plt.subplot(121)\n",
    "df.plot(kind='scatter', x='Time (min)', y='Buy', ax=ax)\n",
    "plt.plot(X, y_pred, color='red')\n",
    "plt.title('No Zoom')\n",
    "\n",
    "ax = plt.subplot(122)\n",
    "df.plot(kind='scatter', x='Time (min)', y='Buy', ax=ax)\n",
    "plt.plot(X, y_pred, color='red')\n",
    "plt.ylim((-1,2))\n",
    "plt.title('Zoom In')\n"
   ]
  },
  {
   "cell_type": "code",
   "execution_count": 60,
   "metadata": {},
   "outputs": [
    {
     "data": {
      "text/plain": [
       "[<matplotlib.lines.Line2D at 0x7f390b0a09e8>]"
      ]
     },
     "execution_count": 60,
     "metadata": {},
     "output_type": "execute_result"
    },
    {
     "data": {
      "image/png": "[encoded data removed]",
      "text/plain": [
       "<matplotlib.figure.Figure at 0x7f390b2675c0>"
      ]
     },
     "metadata": {},
     "output_type": "display_data"
    }
   ],
   "source": [
    "def sigmoid(z):\n",
    "      return 1.0/(1.0 + np.exp(-z))\n",
    "z = np.arange(-10, 10, 0.1)\n",
    "plt.plot(z, sigmoid(z))"
   ]
  },
  {
   "cell_type": "code",
   "execution_count": 61,
   "metadata": {},
   "outputs": [
    {
     "data": {
      "text/plain": [
       "<matplotlib.text.Text at 0x7f390b0cf4a8>"
      ]
     },
     "execution_count": 61,
     "metadata": {},
     "output_type": "execute_result"
    },
    {
     "data": {
      "image/png": "[encoded data removed]",
      "text/plain": [
       "<matplotlib.figure.Figure at 0x7f390b0e3160>"
      ]
     },
     "metadata": {},
     "output_type": "display_data"
    }
   ],
   "source": [
    "x = np.linspace(-10, 10, 100)\n",
    "plt.figure(figsize=(15, 5))\n",
    "plt.subplot(121)\n",
    "\n",
    "ws = [0.1, 0.3, 1, 3]\n",
    "for w in ws:\n",
    "    plt.plot(x, sigmoid(line(x, w=w)))\n",
    "\n",
    "plt.legend(ws)\n",
    "plt.title('Changing w')\n",
    "  \n",
    "plt.subplot(122)\n",
    "bs = [-5, 0, 5]\n",
    "for b in bs:\n",
    "    plt.plot(x, sigmoid(line(x, w=1, b=b)))\n",
    "\n",
    "plt.legend(bs)\n",
    "plt.title('Changing b')"
   ]
  },
  {
   "cell_type": "code",
   "execution_count": 62,
   "metadata": {},
   "outputs": [
    {
     "data": {
      "text/plain": [
       "[<matplotlib.lines.Line2D at 0x7f390ae5a518>]"
      ]
     },
     "execution_count": 62,
     "metadata": {},
     "output_type": "execute_result"
    },
    {
     "data": {
      "image/png": "[encoded data removed]",
      "text/plain": [
       "<matplotlib.figure.Figure at 0x7f390b0af2b0>"
      ]
     },
     "metadata": {},
     "output_type": "display_data"
    }
   ],
   "source": [
    "plt.plot(z, -np.log(sigmoid(z)))"
   ]
  },
  {
   "cell_type": "code",
   "execution_count": 63,
   "metadata": {},
   "outputs": [
    {
     "data": {
      "text/plain": [
       "[<matplotlib.lines.Line2D at 0x7f390ae47940>]"
      ]
     },
     "execution_count": 63,
     "metadata": {},
     "output_type": "execute_result"
    },
    {
     "data": {
      "image/png": "[encoded data removed]",
      "text/plain": [
       "<matplotlib.figure.Figure at 0x7f390ae6cc88>"
      ]
     },
     "metadata": {},
     "output_type": "display_data"
    }
   ],
   "source": [
    "plt.plot(z, -np.log(1 - sigmoid(z)))"
   ]
  },
  {
   "cell_type": "code",
   "execution_count": 64,
   "metadata": {},
   "outputs": [],
   "source": [
    "model = Sequential()\n",
    "model.add(Dense(1, input_dim=1))"
   ]
  },
  {
   "cell_type": "code",
   "execution_count": 65,
   "metadata": {},
   "outputs": [],
   "source": [
    "from keras.layers import Activation"
   ]
  },
  {
   "cell_type": "code",
   "execution_count": 66,
   "metadata": {},
   "outputs": [
    {
     "name": "stdout",
     "output_type": "stream",
     "text": [
      "_________________________________________________________________\n",
      "Layer (type)                 Output Shape              Param #   \n",
      "=================================================================\n",
      "dense_2 (Dense)              (None, 1)                 2         \n",
      "_________________________________________________________________\n",
      "activation_1 (Activation)    (None, 1)                 0         \n",
      "=================================================================\n",
      "Total params: 2\n",
      "Trainable params: 2\n",
      "Non-trainable params: 0\n",
      "_________________________________________________________________\n"
     ]
    }
   ],
   "source": [
    "model.add(Activation('sigmoid'))\n",
    "model.summary()"
   ]
  },
  {
   "cell_type": "code",
   "execution_count": 67,
   "metadata": {},
   "outputs": [
    {
     "data": {
      "text/plain": [
       "[<matplotlib.lines.Line2D at 0x7f390ad1da58>]"
      ]
     },
     "execution_count": 67,
     "metadata": {},
     "output_type": "execute_result"
    },
    {
     "data": {
      "image/png": "[encoded data removed]",
      "text/plain": [
       "<matplotlib.figure.Figure at 0x7f390b1cf7b8>"
      ]
     },
     "metadata": {},
     "output_type": "display_data"
    }
   ],
   "source": [
    "plt.plot(z, model.predict(z))"
   ]
  },
  {
   "cell_type": "code",
   "execution_count": 68,
   "metadata": {},
   "outputs": [],
   "source": [
    "model.compile(SGD(lr=0.5), 'binary_crossentropy', metrics=['accuracy'])"
   ]
  },
  {
   "cell_type": "code",
   "execution_count": 69,
   "metadata": {},
   "outputs": [
    {
     "name": "stdout",
     "output_type": "stream",
     "text": [
      "Epoch 1/25\n",
      "100/100 [==============================] - 0s 2ms/step - loss: 0.9438 - acc: 0.5000\n",
      "Epoch 2/25\n",
      "100/100 [==============================] - 0s 60us/step - loss: 0.6335 - acc: 0.5400\n",
      "Epoch 3/25\n",
      "100/100 [==============================] - 0s 61us/step - loss: 0.6402 - acc: 0.5700\n",
      "Epoch 4/25\n",
      "100/100 [==============================] - 0s 58us/step - loss: 0.5802 - acc: 0.6700\n",
      "Epoch 5/25\n",
      "100/100 [==============================] - 0s 62us/step - loss: 0.5429 - acc: 0.7300\n",
      "Epoch 6/25\n",
      "100/100 [==============================] - 0s 55us/step - loss: 0.5359 - acc: 0.7100\n",
      "Epoch 7/25\n",
      "100/100 [==============================] - 0s 67us/step - loss: 0.5064 - acc: 0.8000\n",
      "Epoch 8/25\n",
      "100/100 [==============================] - 0s 60us/step - loss: 0.4966 - acc: 0.7800\n",
      "Epoch 9/25\n",
      "100/100 [==============================] - 0s 58us/step - loss: 0.4778 - acc: 0.8000\n",
      "Epoch 10/25\n",
      "100/100 [==============================] - 0s 57us/step - loss: 0.4747 - acc: 0.8000\n",
      "Epoch 11/25\n",
      "100/100 [==============================] - 0s 57us/step - loss: 0.4754 - acc: 0.8200\n",
      "Epoch 12/25\n",
      "100/100 [==============================] - 0s 61us/step - loss: 0.4543 - acc: 0.8200\n",
      "Epoch 13/25\n",
      "100/100 [==============================] - 0s 53us/step - loss: 0.4459 - acc: 0.8200\n",
      "Epoch 14/25\n",
      "100/100 [==============================] - 0s 60us/step - loss: 0.4464 - acc: 0.8100\n",
      "Epoch 15/25\n",
      "100/100 [==============================] - 0s 65us/step - loss: 0.4329 - acc: 0.8300\n",
      "Epoch 16/25\n",
      "100/100 [==============================] - 0s 57us/step - loss: 0.4273 - acc: 0.8300\n",
      "Epoch 17/25\n",
      "100/100 [==============================] - 0s 55us/step - loss: 0.4320 - acc: 0.8000\n",
      "Epoch 18/25\n",
      "100/100 [==============================] - 0s 56us/step - loss: 0.4315 - acc: 0.8200\n",
      "Epoch 19/25\n",
      "100/100 [==============================] - 0s 55us/step - loss: 0.4151 - acc: 0.8400\n",
      "Epoch 20/25\n",
      "100/100 [==============================] - 0s 64us/step - loss: 0.4123 - acc: 0.8300\n",
      "Epoch 21/25\n",
      "100/100 [==============================] - 0s 61us/step - loss: 0.4122 - acc: 0.8300\n",
      "Epoch 22/25\n",
      "100/100 [==============================] - 0s 64us/step - loss: 0.4071 - acc: 0.8300\n",
      "Epoch 23/25\n",
      "100/100 [==============================] - 0s 53us/step - loss: 0.4057 - acc: 0.8200\n",
      "Epoch 24/25\n",
      "100/100 [==============================] - 0s 59us/step - loss: 0.4324 - acc: 0.7800\n",
      "Epoch 25/25\n",
      "100/100 [==============================] - 0s 58us/step - loss: 0.4061 - acc: 0.8200\n"
     ]
    },
    {
     "data": {
      "text/plain": [
       "<keras.callbacks.History at 0x7f390ad30320>"
      ]
     },
     "execution_count": 69,
     "metadata": {},
     "output_type": "execute_result"
    }
   ],
   "source": [
    "model.fit(X, y, epochs=25)"
   ]
  },
  {
   "cell_type": "code",
   "execution_count": 70,
   "metadata": {},
   "outputs": [
    {
     "data": {
      "text/plain": [
       "<matplotlib.legend.Legend at 0x7f390aa984e0>"
      ]
     },
     "execution_count": 70,
     "metadata": {},
     "output_type": "execute_result"
    },
    {
     "data": {
      "image/png": "[encoded data removed]",
      "text/plain": [
       "<matplotlib.figure.Figure at 0x7f390aa98588>"
      ]
     },
     "metadata": {},
     "output_type": "display_data"
    }
   ],
   "source": [
    "ax = df.plot(kind='scatter', x='Time (min)', y='Buy',\n",
    "               title='Purchase behavior VS time spent on site')\n",
    "temp = np.linspace(0, 4)\n",
    "ax.plot(temp, model.predict(temp), color='orange')\n",
    "plt.legend(['model', 'data'])"
   ]
  },
  {
   "cell_type": "code",
   "execution_count": 71,
   "metadata": {},
   "outputs": [],
   "source": [
    "y_pred = model.predict(X)\n",
    "y_class_pred = y_pred > 0.5"
   ]
  },
  {
   "cell_type": "code",
   "execution_count": 72,
   "metadata": {},
   "outputs": [
    {
     "name": "stdout",
     "output_type": "stream",
     "text": [
      "The accuracy score is 0.820\n"
     ]
    }
   ],
   "source": [
    "from sklearn.metrics import accuracy_score\n",
    "print(\"The accuracy score is {:0.3f}\".format(accuracy_score(y, y_class_pred)))"
   ]
  },
  {
   "cell_type": "code",
   "execution_count": 73,
   "metadata": {},
   "outputs": [],
   "source": [
    "X_train, X_test, y_train, y_test = train_test_split(X, y, test_size=0.2)"
   ]
  },
  {
   "cell_type": "code",
   "execution_count": 74,
   "metadata": {},
   "outputs": [
    {
     "data": {
      "text/plain": [
       "[array([[ 1.56424892]], dtype=float32), array([-2.77975798], dtype=float32)]"
      ]
     },
     "execution_count": 74,
     "metadata": {},
     "output_type": "execute_result"
    }
   ],
   "source": [
    "params = model.get_weights()\n",
    "params"
   ]
  },
  {
   "cell_type": "code",
   "execution_count": 75,
   "metadata": {},
   "outputs": [
    {
     "data": {
      "text/plain": [
       "[array([[ 0.]]), array([ 0.])]"
      ]
     },
     "execution_count": 75,
     "metadata": {},
     "output_type": "execute_result"
    }
   ],
   "source": [
    "params = [np.zeros(w.shape) for w in params]\n",
    "params"
   ]
  },
  {
   "cell_type": "code",
   "execution_count": 76,
   "metadata": {},
   "outputs": [],
   "source": [
    "model.set_weights(params)"
   ]
  },
  {
   "cell_type": "code",
   "execution_count": 77,
   "metadata": {},
   "outputs": [
    {
     "name": "stdout",
     "output_type": "stream",
     "text": [
      "The accuracy score is 0.500\n"
     ]
    }
   ],
   "source": [
    "print(\"The accuracy score is {:0.3f}\".format(accuracy_score(y, model.predict(X)\n",
    "  > 0.5)))"
   ]
  },
  {
   "cell_type": "code",
   "execution_count": 78,
   "metadata": {},
   "outputs": [
    {
     "data": {
      "text/plain": [
       "[<matplotlib.lines.Line2D at 0x7f390a9558d0>]"
      ]
     },
     "execution_count": 78,
     "metadata": {},
     "output_type": "execute_result"
    },
    {
     "data": {
      "image/png": "[encoded data removed]",
      "text/plain": [
       "<matplotlib.figure.Figure at 0x7f390aadf048>"
      ]
     },
     "metadata": {},
     "output_type": "display_data"
    }
   ],
   "source": [
    "plt.plot(z, model.predict(z))"
   ]
  },
  {
   "cell_type": "code",
   "execution_count": 79,
   "metadata": {},
   "outputs": [
    {
     "name": "stdout",
     "output_type": "stream",
     "text": [
      "Epoch 1/25\n",
      "80/80 [==============================] - 0s 87us/step - loss: 0.6655 - acc: 0.7125\n",
      "Epoch 2/25\n",
      "80/80 [==============================] - 0s 60us/step - loss: 0.6105 - acc: 0.5875\n",
      "Epoch 3/25\n",
      "80/80 [==============================] - 0s 63us/step - loss: 0.5840 - acc: 0.7000\n",
      "Epoch 4/25\n",
      "80/80 [==============================] - 0s 61us/step - loss: 0.5620 - acc: 0.6875\n",
      "Epoch 5/25\n",
      "80/80 [==============================] - 0s 63us/step - loss: 0.5687 - acc: 0.7250\n",
      "Epoch 6/25\n",
      "80/80 [==============================] - 0s 62us/step - loss: 0.5275 - acc: 0.7625\n",
      "Epoch 7/25\n",
      "80/80 [==============================] - 0s 59us/step - loss: 0.5127 - acc: 0.7875\n",
      "Epoch 8/25\n",
      "80/80 [==============================] - 0s 63us/step - loss: 0.5030 - acc: 0.7875\n",
      "Epoch 9/25\n",
      "80/80 [==============================] - 0s 61us/step - loss: 0.5050 - acc: 0.8000\n",
      "Epoch 10/25\n",
      "80/80 [==============================] - 0s 62us/step - loss: 0.4815 - acc: 0.8125\n",
      "Epoch 11/25\n",
      "80/80 [==============================] - 0s 66us/step - loss: 0.4719 - acc: 0.7750\n",
      "Epoch 12/25\n",
      "80/80 [==============================] - 0s 64us/step - loss: 0.4681 - acc: 0.7875\n",
      "Epoch 13/25\n",
      "80/80 [==============================] - 0s 74us/step - loss: 0.4573 - acc: 0.8125\n",
      "Epoch 14/25\n",
      "80/80 [==============================] - 0s 72us/step - loss: 0.4569 - acc: 0.8375\n",
      "Epoch 15/25\n",
      "80/80 [==============================] - 0s 64us/step - loss: 0.4489 - acc: 0.7875\n",
      "Epoch 16/25\n",
      "80/80 [==============================] - 0s 69us/step - loss: 0.4386 - acc: 0.8000\n",
      "Epoch 17/25\n",
      "80/80 [==============================] - 0s 58us/step - loss: 0.4344 - acc: 0.8250\n",
      "Epoch 18/25\n",
      "80/80 [==============================] - 0s 61us/step - loss: 0.4291 - acc: 0.8125\n",
      "Epoch 19/25\n",
      "80/80 [==============================] - 0s 66us/step - loss: 0.4314 - acc: 0.8000\n",
      "Epoch 20/25\n",
      "80/80 [==============================] - 0s 60us/step - loss: 0.4243 - acc: 0.8000\n",
      "Epoch 21/25\n",
      "80/80 [==============================] - 0s 62us/step - loss: 0.4193 - acc: 0.8250\n",
      "Epoch 22/25\n",
      "80/80 [==============================] - 0s 63us/step - loss: 0.4165 - acc: 0.8250\n",
      "Epoch 23/25\n",
      "80/80 [==============================] - 0s 63us/step - loss: 0.4146 - acc: 0.8250\n",
      "Epoch 24/25\n",
      "80/80 [==============================] - 0s 60us/step - loss: 0.4113 - acc: 0.8250\n",
      "Epoch 25/25\n",
      "80/80 [==============================] - 0s 62us/step - loss: 0.4087 - acc: 0.8125\n"
     ]
    },
    {
     "data": {
      "text/plain": [
       "<keras.callbacks.History at 0x7f390a9744a8>"
      ]
     },
     "execution_count": 79,
     "metadata": {},
     "output_type": "execute_result"
    }
   ],
   "source": [
    "model.fit(X_train, y_train, epochs=25)"
   ]
  },
  {
   "cell_type": "code",
   "execution_count": 80,
   "metadata": {},
   "outputs": [
    {
     "name": "stdout",
     "output_type": "stream",
     "text": [
      "The train accuracy score is 0.825\n"
     ]
    }
   ],
   "source": [
    "print(\"The train accuracy score is {:0.3f}\".format(accuracy_score(y_train,\n",
    "  model.predict(X_train) > 0.5)))"
   ]
  },
  {
   "cell_type": "code",
   "execution_count": 81,
   "metadata": {},
   "outputs": [
    {
     "name": "stdout",
     "output_type": "stream",
     "text": [
      "The test accuracy score is 0.850\n"
     ]
    }
   ],
   "source": [
    "print(\"The test accuracy score is {:0.3f}\".format(accuracy_score(y_test,\n",
    "  model.predict(X_test) > 0.5)))"
   ]
  },
  {
   "cell_type": "code",
   "execution_count": 82,
   "metadata": {},
   "outputs": [],
   "source": [
    "def build_logistic_regression_model():\n",
    "      model = Sequential()\n",
    "      model.add(Dense(1, input_dim=1, activation='sigmoid'))\n",
    "      model.compile(SGD(lr=0.5), 'binary_crossentropy', metrics=['accuracy'])\n",
    "      return model"
   ]
  },
  {
   "cell_type": "code",
   "execution_count": 84,
   "metadata": {},
   "outputs": [],
   "source": [
    "from keras.wrappers.scikit_learn import KerasClassifier\n",
    "model = KerasClassifier(build_fn=build_logistic_regression_model, epochs=25, verbose=0)"
   ]
  },
  {
   "cell_type": "code",
   "execution_count": 85,
   "metadata": {},
   "outputs": [
    {
     "data": {
      "text/plain": [
       "array([ 0.82352941,  0.75757576,  0.84848485])"
      ]
     },
     "execution_count": 85,
     "metadata": {},
     "output_type": "execute_result"
    }
   ],
   "source": [
    "from sklearn.model_selection import cross_val_score, KFold\n",
    "cv = KFold(3, shuffle=True)\n",
    "scores = cross_val_score(model, X, y, cv=cv)\n",
    "scores"
   ]
  },
  {
   "cell_type": "code",
   "execution_count": 86,
   "metadata": {},
   "outputs": [],
   "source": [
    "from sklearn.metrics import confusion_matrix"
   ]
  },
  {
   "cell_type": "code",
   "execution_count": 87,
   "metadata": {},
   "outputs": [],
   "source": [
    "def pretty_confusion_matrix(y_true, y_pred, labels=[\"False\", \"True\"]):\n",
    "      cm = confusion_matrix(y_true, y_pred)\n",
    "      pred_labels = ['Predicted '+ l for l in labels]\n",
    "      df = pd.DataFrame(cm, index=labels, columns=pred_labels)\n",
    "      return df"
   ]
  },
  {
   "cell_type": "code",
   "execution_count": 88,
   "metadata": {},
   "outputs": [
    {
     "data": {
      "text/html": [
       "<div>\n",
       "<table border=\"1\" class=\"dataframe\">\n",
       "  <thead>\n",
       "    <tr style=\"text-align: right;\">\n",
       "      <th></th>\n",
       "      <th>Predicted Not Buy</th>\n",
       "      <th>Predicted Buy</th>\n",
       "    </tr>\n",
       "  </thead>\n",
       "  <tbody>\n",
       "    <tr>\n",
       "      <th>Not Buy</th>\n",
       "      <td>41</td>\n",
       "      <td>9</td>\n",
       "    </tr>\n",
       "    <tr>\n",
       "      <th>Buy</th>\n",
       "      <td>9</td>\n",
       "      <td>41</td>\n",
       "    </tr>\n",
       "  </tbody>\n",
       "</table>\n",
       "</div>"
      ],
      "text/plain": [
       "         Predicted Not Buy  Predicted Buy\n",
       "Not Buy                 41              9\n",
       "Buy                      9             41"
      ]
     },
     "execution_count": 88,
     "metadata": {},
     "output_type": "execute_result"
    }
   ],
   "source": [
    "pretty_confusion_matrix(y, y_class_pred, ['Not Buy', 'Buy'])"
   ]
  },
  {
   "cell_type": "code",
   "execution_count": 89,
   "metadata": {},
   "outputs": [
    {
     "name": "stdout",
     "output_type": "stream",
     "text": [
      "Precision:\t0.820\n",
      "Recall:  \t0.820\n",
      "F1 Score:\t0.820\n"
     ]
    }
   ],
   "source": [
    "from sklearn.metrics import precision_score, recall_score, f1_score\n",
    "print(\"Precision:\\t{:0.3f}\".format(precision_score(y, y_class_pred)))\n",
    "print(\"Recall:  \\t{:0.3f}\".format(recall_score(y, y_class_pred)))\n",
    "print(\"F1 Score:\\t{:0.3f}\".format(f1_score(y, y_class_pred)))"
   ]
  },
  {
   "cell_type": "code",
   "execution_count": 90,
   "metadata": {},
   "outputs": [
    {
     "name": "stdout",
     "output_type": "stream",
     "text": [
      "             precision    recall  f1-score   support\n",
      "\n",
      "          0       0.82      0.82      0.82        50\n",
      "          1       0.82      0.82      0.82        50\n",
      "\n",
      "avg / total       0.82      0.82      0.82       100\n",
      "\n"
     ]
    }
   ],
   "source": [
    "from sklearn.metrics import classification_report \n",
    "print(classification_report(y, y_class_pred))\n"
   ]
  },
  {
   "cell_type": "code",
   "execution_count": 92,
   "metadata": {},
   "outputs": [
    {
     "data": {
      "text/html": [
       "<div>\n",
       "<table border=\"1\" class=\"dataframe\">\n",
       "  <thead>\n",
       "    <tr style=\"text-align: right;\">\n",
       "      <th></th>\n",
       "      <th>Gender</th>\n",
       "      <th>Height</th>\n",
       "      <th>Weight</th>\n",
       "    </tr>\n",
       "  </thead>\n",
       "  <tbody>\n",
       "    <tr>\n",
       "      <th>0</th>\n",
       "      <td>Male</td>\n",
       "      <td>73.847017</td>\n",
       "      <td>241.893563</td>\n",
       "    </tr>\n",
       "    <tr>\n",
       "      <th>1</th>\n",
       "      <td>Male</td>\n",
       "      <td>68.781904</td>\n",
       "      <td>162.310473</td>\n",
       "    </tr>\n",
       "    <tr>\n",
       "      <th>2</th>\n",
       "      <td>Male</td>\n",
       "      <td>74.110105</td>\n",
       "      <td>212.740856</td>\n",
       "    </tr>\n",
       "    <tr>\n",
       "      <th>3</th>\n",
       "      <td>Male</td>\n",
       "      <td>71.730978</td>\n",
       "      <td>220.042470</td>\n",
       "    </tr>\n",
       "    <tr>\n",
       "      <th>4</th>\n",
       "      <td>Male</td>\n",
       "      <td>69.881796</td>\n",
       "      <td>206.349801</td>\n",
       "    </tr>\n",
       "  </tbody>\n",
       "</table>\n",
       "</div>"
      ],
      "text/plain": [
       "  Gender     Height      Weight\n",
       "0   Male  73.847017  241.893563\n",
       "1   Male  68.781904  162.310473\n",
       "2   Male  74.110105  212.740856\n",
       "3   Male  71.730978  220.042470\n",
       "4   Male  69.881796  206.349801"
      ]
     },
     "execution_count": 92,
     "metadata": {},
     "output_type": "execute_result"
    }
   ],
   "source": [
    "df = pd.read_csv('./data/weight-height.csv')\n",
    "df.head()"
   ]
  },
  {
   "cell_type": "code",
   "execution_count": 93,
   "metadata": {},
   "outputs": [
    {
     "data": {
      "text/html": [
       "<div>\n",
       "<table border=\"1\" class=\"dataframe\">\n",
       "  <thead>\n",
       "    <tr style=\"text-align: right;\">\n",
       "      <th></th>\n",
       "      <th>Gender_Female</th>\n",
       "      <th>Gender_Male</th>\n",
       "    </tr>\n",
       "  </thead>\n",
       "  <tbody>\n",
       "    <tr>\n",
       "      <th>0</th>\n",
       "      <td>0</td>\n",
       "      <td>1</td>\n",
       "    </tr>\n",
       "    <tr>\n",
       "      <th>1</th>\n",
       "      <td>0</td>\n",
       "      <td>1</td>\n",
       "    </tr>\n",
       "    <tr>\n",
       "      <th>2</th>\n",
       "      <td>0</td>\n",
       "      <td>1</td>\n",
       "    </tr>\n",
       "    <tr>\n",
       "      <th>3</th>\n",
       "      <td>0</td>\n",
       "      <td>1</td>\n",
       "    </tr>\n",
       "    <tr>\n",
       "      <th>4</th>\n",
       "      <td>0</td>\n",
       "      <td>1</td>\n",
       "    </tr>\n",
       "  </tbody>\n",
       "</table>\n",
       "</div>"
      ],
      "text/plain": [
       "   Gender_Female  Gender_Male\n",
       "0              0            1\n",
       "1              0            1\n",
       "2              0            1\n",
       "3              0            1\n",
       "4              0            1"
      ]
     },
     "execution_count": 93,
     "metadata": {},
     "output_type": "execute_result"
    }
   ],
   "source": [
    "pd.get_dummies(df['Gender'], prefix='Gender').head()"
   ]
  },
  {
   "cell_type": "code",
   "execution_count": 94,
   "metadata": {},
   "outputs": [
    {
     "data": {
      "text/html": [
       "<div>\n",
       "<table border=\"1\" class=\"dataframe\">\n",
       "  <thead>\n",
       "    <tr style=\"text-align: right;\">\n",
       "      <th></th>\n",
       "      <th>Height</th>\n",
       "      <th>Weight</th>\n",
       "      <th>Height (feet)</th>\n",
       "      <th>Weight (100 lbs)</th>\n",
       "    </tr>\n",
       "  </thead>\n",
       "  <tbody>\n",
       "    <tr>\n",
       "      <th>count</th>\n",
       "      <td>10000.00</td>\n",
       "      <td>10000.00</td>\n",
       "      <td>10000.00</td>\n",
       "      <td>10000.00</td>\n",
       "    </tr>\n",
       "    <tr>\n",
       "      <th>mean</th>\n",
       "      <td>66.37</td>\n",
       "      <td>161.44</td>\n",
       "      <td>5.53</td>\n",
       "      <td>1.61</td>\n",
       "    </tr>\n",
       "    <tr>\n",
       "      <th>std</th>\n",
       "      <td>3.85</td>\n",
       "      <td>32.11</td>\n",
       "      <td>0.32</td>\n",
       "      <td>0.32</td>\n",
       "    </tr>\n",
       "    <tr>\n",
       "      <th>min</th>\n",
       "      <td>54.26</td>\n",
       "      <td>64.70</td>\n",
       "      <td>4.52</td>\n",
       "      <td>0.65</td>\n",
       "    </tr>\n",
       "    <tr>\n",
       "      <th>25%</th>\n",
       "      <td>63.51</td>\n",
       "      <td>135.82</td>\n",
       "      <td>5.29</td>\n",
       "      <td>1.36</td>\n",
       "    </tr>\n",
       "    <tr>\n",
       "      <th>50%</th>\n",
       "      <td>66.32</td>\n",
       "      <td>161.21</td>\n",
       "      <td>5.53</td>\n",
       "      <td>1.61</td>\n",
       "    </tr>\n",
       "    <tr>\n",
       "      <th>75%</th>\n",
       "      <td>69.17</td>\n",
       "      <td>187.17</td>\n",
       "      <td>5.76</td>\n",
       "      <td>1.87</td>\n",
       "    </tr>\n",
       "    <tr>\n",
       "      <th>max</th>\n",
       "      <td>79.00</td>\n",
       "      <td>269.99</td>\n",
       "      <td>6.58</td>\n",
       "      <td>2.70</td>\n",
       "    </tr>\n",
       "  </tbody>\n",
       "</table>\n",
       "</div>"
      ],
      "text/plain": [
       "         Height    Weight  Height (feet)  Weight (100 lbs)\n",
       "count  10000.00  10000.00       10000.00          10000.00\n",
       "mean      66.37    161.44           5.53              1.61\n",
       "std        3.85     32.11           0.32              0.32\n",
       "min       54.26     64.70           4.52              0.65\n",
       "25%       63.51    135.82           5.29              1.36\n",
       "50%       66.32    161.21           5.53              1.61\n",
       "75%       69.17    187.17           5.76              1.87\n",
       "max       79.00    269.99           6.58              2.70"
      ]
     },
     "execution_count": 94,
     "metadata": {},
     "output_type": "execute_result"
    }
   ],
   "source": [
    "df['Height (feet)'] = df['Height']/12.0\n",
    "df['Weight (100 lbs)'] = df['Weight']/100.0\n",
    "df.describe().round(2)"
   ]
  },
  {
   "cell_type": "code",
   "execution_count": 95,
   "metadata": {},
   "outputs": [],
   "source": [
    "from sklearn.preprocessing import MinMaxScaler"
   ]
  },
  {
   "cell_type": "code",
   "execution_count": 96,
   "metadata": {},
   "outputs": [
    {
     "data": {
      "text/html": [
       "<div>\n",
       "<table border=\"1\" class=\"dataframe\">\n",
       "  <thead>\n",
       "    <tr style=\"text-align: right;\">\n",
       "      <th></th>\n",
       "      <th>Height</th>\n",
       "      <th>Weight</th>\n",
       "      <th>Height (feet)</th>\n",
       "      <th>Weight (100 lbs)</th>\n",
       "      <th>Weight_mms</th>\n",
       "      <th>Height_mms</th>\n",
       "    </tr>\n",
       "  </thead>\n",
       "  <tbody>\n",
       "    <tr>\n",
       "      <th>count</th>\n",
       "      <td>10000.00</td>\n",
       "      <td>10000.00</td>\n",
       "      <td>10000.00</td>\n",
       "      <td>10000.00</td>\n",
       "      <td>10000.00</td>\n",
       "      <td>10000.00</td>\n",
       "    </tr>\n",
       "    <tr>\n",
       "      <th>mean</th>\n",
       "      <td>66.37</td>\n",
       "      <td>161.44</td>\n",
       "      <td>5.53</td>\n",
       "      <td>1.61</td>\n",
       "      <td>0.47</td>\n",
       "      <td>0.49</td>\n",
       "    </tr>\n",
       "    <tr>\n",
       "      <th>std</th>\n",
       "      <td>3.85</td>\n",
       "      <td>32.11</td>\n",
       "      <td>0.32</td>\n",
       "      <td>0.32</td>\n",
       "      <td>0.16</td>\n",
       "      <td>0.16</td>\n",
       "    </tr>\n",
       "    <tr>\n",
       "      <th>min</th>\n",
       "      <td>54.26</td>\n",
       "      <td>64.70</td>\n",
       "      <td>4.52</td>\n",
       "      <td>0.65</td>\n",
       "      <td>0.00</td>\n",
       "      <td>0.00</td>\n",
       "    </tr>\n",
       "    <tr>\n",
       "      <th>25%</th>\n",
       "      <td>63.51</td>\n",
       "      <td>135.82</td>\n",
       "      <td>5.29</td>\n",
       "      <td>1.36</td>\n",
       "      <td>0.35</td>\n",
       "      <td>0.37</td>\n",
       "    </tr>\n",
       "    <tr>\n",
       "      <th>50%</th>\n",
       "      <td>66.32</td>\n",
       "      <td>161.21</td>\n",
       "      <td>5.53</td>\n",
       "      <td>1.61</td>\n",
       "      <td>0.47</td>\n",
       "      <td>0.49</td>\n",
       "    </tr>\n",
       "    <tr>\n",
       "      <th>75%</th>\n",
       "      <td>69.17</td>\n",
       "      <td>187.17</td>\n",
       "      <td>5.76</td>\n",
       "      <td>1.87</td>\n",
       "      <td>0.60</td>\n",
       "      <td>0.60</td>\n",
       "    </tr>\n",
       "    <tr>\n",
       "      <th>max</th>\n",
       "      <td>79.00</td>\n",
       "      <td>269.99</td>\n",
       "      <td>6.58</td>\n",
       "      <td>2.70</td>\n",
       "      <td>1.00</td>\n",
       "      <td>1.00</td>\n",
       "    </tr>\n",
       "  </tbody>\n",
       "</table>\n",
       "</div>"
      ],
      "text/plain": [
       "         Height    Weight  Height (feet)  Weight (100 lbs)  Weight_mms  \\\n",
       "count  10000.00  10000.00       10000.00          10000.00    10000.00   \n",
       "mean      66.37    161.44           5.53              1.61        0.47   \n",
       "std        3.85     32.11           0.32              0.32        0.16   \n",
       "min       54.26     64.70           4.52              0.65        0.00   \n",
       "25%       63.51    135.82           5.29              1.36        0.35   \n",
       "50%       66.32    161.21           5.53              1.61        0.47   \n",
       "75%       69.17    187.17           5.76              1.87        0.60   \n",
       "max       79.00    269.99           6.58              2.70        1.00   \n",
       "\n",
       "       Height_mms  \n",
       "count    10000.00  \n",
       "mean         0.49  \n",
       "std          0.16  \n",
       "min          0.00  \n",
       "25%          0.37  \n",
       "50%          0.49  \n",
       "75%          0.60  \n",
       "max          1.00  "
      ]
     },
     "execution_count": 96,
     "metadata": {},
     "output_type": "execute_result"
    }
   ],
   "source": [
    "mms = MinMaxScaler()\n",
    "df['Weight_mms'] = mms.fit_transform(df[['Weight']])\n",
    "df['Height_mms'] = mms.fit_transform(df[['Height']])\n",
    "df.describe().round(2)"
   ]
  },
  {
   "cell_type": "code",
   "execution_count": 97,
   "metadata": {},
   "outputs": [],
   "source": [
    "from sklearn.preprocessing import StandardScaler"
   ]
  },
  {
   "cell_type": "code",
   "execution_count": 98,
   "metadata": {},
   "outputs": [
    {
     "data": {
      "text/html": [
       "<div>\n",
       "<table border=\"1\" class=\"dataframe\">\n",
       "  <thead>\n",
       "    <tr style=\"text-align: right;\">\n",
       "      <th></th>\n",
       "      <th>Height</th>\n",
       "      <th>Weight</th>\n",
       "      <th>Height (feet)</th>\n",
       "      <th>Weight (100 lbs)</th>\n",
       "      <th>Weight_mms</th>\n",
       "      <th>Height_mms</th>\n",
       "      <th>Weight_ss</th>\n",
       "      <th>Height_ss</th>\n",
       "    </tr>\n",
       "  </thead>\n",
       "  <tbody>\n",
       "    <tr>\n",
       "      <th>count</th>\n",
       "      <td>10000.00</td>\n",
       "      <td>10000.00</td>\n",
       "      <td>10000.00</td>\n",
       "      <td>10000.00</td>\n",
       "      <td>10000.00</td>\n",
       "      <td>10000.00</td>\n",
       "      <td>10000.00</td>\n",
       "      <td>10000.00</td>\n",
       "    </tr>\n",
       "    <tr>\n",
       "      <th>mean</th>\n",
       "      <td>66.37</td>\n",
       "      <td>161.44</td>\n",
       "      <td>5.53</td>\n",
       "      <td>1.61</td>\n",
       "      <td>0.47</td>\n",
       "      <td>0.49</td>\n",
       "      <td>0.00</td>\n",
       "      <td>0.00</td>\n",
       "    </tr>\n",
       "    <tr>\n",
       "      <th>std</th>\n",
       "      <td>3.85</td>\n",
       "      <td>32.11</td>\n",
       "      <td>0.32</td>\n",
       "      <td>0.32</td>\n",
       "      <td>0.16</td>\n",
       "      <td>0.16</td>\n",
       "      <td>1.00</td>\n",
       "      <td>1.00</td>\n",
       "    </tr>\n",
       "    <tr>\n",
       "      <th>min</th>\n",
       "      <td>54.26</td>\n",
       "      <td>64.70</td>\n",
       "      <td>4.52</td>\n",
       "      <td>0.65</td>\n",
       "      <td>0.00</td>\n",
       "      <td>0.00</td>\n",
       "      <td>-3.01</td>\n",
       "      <td>-3.15</td>\n",
       "    </tr>\n",
       "    <tr>\n",
       "      <th>25%</th>\n",
       "      <td>63.51</td>\n",
       "      <td>135.82</td>\n",
       "      <td>5.29</td>\n",
       "      <td>1.36</td>\n",
       "      <td>0.35</td>\n",
       "      <td>0.37</td>\n",
       "      <td>-0.80</td>\n",
       "      <td>-0.74</td>\n",
       "    </tr>\n",
       "    <tr>\n",
       "      <th>50%</th>\n",
       "      <td>66.32</td>\n",
       "      <td>161.21</td>\n",
       "      <td>5.53</td>\n",
       "      <td>1.61</td>\n",
       "      <td>0.47</td>\n",
       "      <td>0.49</td>\n",
       "      <td>-0.01</td>\n",
       "      <td>-0.01</td>\n",
       "    </tr>\n",
       "    <tr>\n",
       "      <th>75%</th>\n",
       "      <td>69.17</td>\n",
       "      <td>187.17</td>\n",
       "      <td>5.76</td>\n",
       "      <td>1.87</td>\n",
       "      <td>0.60</td>\n",
       "      <td>0.60</td>\n",
       "      <td>0.80</td>\n",
       "      <td>0.73</td>\n",
       "    </tr>\n",
       "    <tr>\n",
       "      <th>max</th>\n",
       "      <td>79.00</td>\n",
       "      <td>269.99</td>\n",
       "      <td>6.58</td>\n",
       "      <td>2.70</td>\n",
       "      <td>1.00</td>\n",
       "      <td>1.00</td>\n",
       "      <td>3.38</td>\n",
       "      <td>3.28</td>\n",
       "    </tr>\n",
       "  </tbody>\n",
       "</table>\n",
       "</div>"
      ],
      "text/plain": [
       "         Height    Weight  Height (feet)  Weight (100 lbs)  Weight_mms  \\\n",
       "count  10000.00  10000.00       10000.00          10000.00    10000.00   \n",
       "mean      66.37    161.44           5.53              1.61        0.47   \n",
       "std        3.85     32.11           0.32              0.32        0.16   \n",
       "min       54.26     64.70           4.52              0.65        0.00   \n",
       "25%       63.51    135.82           5.29              1.36        0.35   \n",
       "50%       66.32    161.21           5.53              1.61        0.47   \n",
       "75%       69.17    187.17           5.76              1.87        0.60   \n",
       "max       79.00    269.99           6.58              2.70        1.00   \n",
       "\n",
       "       Height_mms  Weight_ss  Height_ss  \n",
       "count    10000.00   10000.00   10000.00  \n",
       "mean         0.49       0.00       0.00  \n",
       "std          0.16       1.00       1.00  \n",
       "min          0.00      -3.01      -3.15  \n",
       "25%          0.37      -0.80      -0.74  \n",
       "50%          0.49      -0.01      -0.01  \n",
       "75%          0.60       0.80       0.73  \n",
       "max          1.00       3.38       3.28  "
      ]
     },
     "execution_count": 98,
     "metadata": {},
     "output_type": "execute_result"
    }
   ],
   "source": [
    "ss = StandardScaler()\n",
    "df['Weight_ss'] = ss.fit_transform(df[['Weight']])\n",
    "df['Height_ss'] = ss.fit_transform(df[['Height']])\n",
    "df.describe().round(2)"
   ]
  },
  {
   "cell_type": "code",
   "execution_count": 99,
   "metadata": {},
   "outputs": [
    {
     "data": {
      "image/png": "[encoded data removed]",
      "text/plain": [
       "<matplotlib.figure.Figure at 0x7f390a073e80>"
      ]
     },
     "metadata": {},
     "output_type": "display_data"
    }
   ],
   "source": [
    "plt.figure(figsize=(15, 5))\n",
    "for i, feature in enumerate(['Height', 'Height (feet)', 'Height_mms', 'Height_ss']):\n",
    "    plt.subplot(1, 4, i+1)\n",
    "    df[feature].plot(kind='hist', title=feature)\n",
    "    plt.xlabel(feature)"
   ]
  },
  {
   "cell_type": "code",
   "execution_count": null,
   "metadata": {},
   "outputs": [],
   "source": []
  }
 ],
 "metadata": {
  "kernelspec": {
   "display_name": "Python 3",
   "language": "python",
   "name": "python3"
  },
  "language_info": {
   "codemirror_mode": {
    "name": "ipython",
    "version": 3
   },
   "file_extension": ".py",
   "mimetype": "text/x-python",
   "name": "python",
   "nbconvert_exporter": "python",
   "pygments_lexer": "ipython3",
   "version": "3.6.3"
  }
 },
 "nbformat": 4,
 "nbformat_minor": 2
}
